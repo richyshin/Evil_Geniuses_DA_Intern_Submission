{
 "cells": [
  {
   "cell_type": "markdown",
   "id": "f35af8b8",
   "metadata": {},
   "source": [
    "# 7. What suggestions would you give to the social media team if they want to expand their presence (e.g. if our CSGO youtube channel is doing well should we expand to TikTok)?"
   ]
  },
  {
   "cell_type": "markdown",
   "id": "8672bf9d",
   "metadata": {},
   "source": [
    "If the social media team wants to expand their presence, considering the success of the CSGO Youtube Channel, expanding to Tiktok can be a viable option.  Tiktok has boomed in popularity so we can expect high engagement rates, especially in content related to gaming.\n",
    "\n",
    "Before expanding it would be beneficial to gather data on the engagement found on Tiktok and our community.  Taking a survey on how many fans in the community have Tiktok or how many fans would like to see a Tiktok account for Evil Geniuses CSGO team.  \n",
    "\n",
    "Gathering data and seeing the types of engagement that other Esports companies have can also aid in the decision of expanding for the social media team.  Expanding would cost money so being able to see the type of engagements and returns would be beneficial for the social media team to look at.  \n",
    "\n",
    "The team can leverage the existing success on YouTube to create engaging and entertaining short-form videos on TikTok, targeting the platform's active gaming community.  Funny skits with the team, interviews with the team and special guests, etc, could all be possible ideas for these shorts.  This allows the fans to get a better understanding of the team which could improve engagement rates by a lot.\n",
    "\n",
    "Overall, I think it would be a great idea to expand into Tiktok and possibly other social media platforms as well. "
   ]
  },
  {
   "cell_type": "markdown",
   "id": "b4fc550f",
   "metadata": {},
   "source": [
    "Ending notes:\n",
    "   \n",
    "Thank you for the opportunity to show off my skills in this assessment, I had a lot of fun diving into the data provided.  Thank you for taking the time to look through my submission as well.  Whether I am chosen to move on to the next steps or not, this has been a valuable learning experience.    \n",
    "\n",
    "Hope to hear from you soon."
   ]
  },
  {
   "cell_type": "code",
   "execution_count": null,
   "id": "04dc6e89",
   "metadata": {},
   "outputs": [],
   "source": []
  }
 ],
 "metadata": {
  "kernelspec": {
   "display_name": "Python 3 (ipykernel)",
   "language": "python",
   "name": "python3"
  },
  "language_info": {
   "codemirror_mode": {
    "name": "ipython",
    "version": 3
   },
   "file_extension": ".py",
   "mimetype": "text/x-python",
   "name": "python",
   "nbconvert_exporter": "python",
   "pygments_lexer": "ipython3",
   "version": "3.9.12"
  }
 },
 "nbformat": 4,
 "nbformat_minor": 5
}
