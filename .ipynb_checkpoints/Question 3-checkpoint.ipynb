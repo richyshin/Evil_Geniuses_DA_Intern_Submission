{
 "cells": [
  {
   "cell_type": "markdown",
   "id": "be9754ef",
   "metadata": {},
   "source": [
    "#  3. How are our game titles doing in terms of social performance? Is there a specific game we should focus more on or less?"
   ]
  },
  {
   "cell_type": "code",
   "execution_count": 1,
   "id": "ea01d0ea",
   "metadata": {},
   "outputs": [],
   "source": [
    "# import relevant packages\n",
    "import pandas as pd\n",
    "import numpy as np\n",
    "import matplotlib.pyplot as plt"
   ]
  },
  {
   "cell_type": "code",
   "execution_count": 3,
   "id": "47d3f8ff",
   "metadata": {},
   "outputs": [],
   "source": [
    "# to tackle this question we must look at the engagement rates for each game title\n",
    "# assuming social performance = engagement rate"
   ]
  },
  {
   "cell_type": "code",
   "execution_count": 2,
   "id": "987be155",
   "metadata": {},
   "outputs": [],
   "source": [
    "# first read in the dataset\n",
    "pd.set_option('display.width', None) # make sure to see every column of the datasetf\n",
    "df = pd.read_excel('social_data.xlsx') # read in excel file to pandas dataframe"
   ]
  },
  {
   "cell_type": "code",
   "execution_count": 4,
   "id": "57e26d56",
   "metadata": {},
   "outputs": [
    {
     "data": {
      "text/html": [
       "<div>\n",
       "<style scoped>\n",
       "    .dataframe tbody tr th:only-of-type {\n",
       "        vertical-align: middle;\n",
       "    }\n",
       "\n",
       "    .dataframe tbody tr th {\n",
       "        vertical-align: top;\n",
       "    }\n",
       "\n",
       "    .dataframe thead th {\n",
       "        text-align: right;\n",
       "    }\n",
       "</style>\n",
       "<table border=\"1\" class=\"dataframe\">\n",
       "  <thead>\n",
       "    <tr style=\"text-align: right;\">\n",
       "      <th></th>\n",
       "      <th>Published Date</th>\n",
       "      <th>Account</th>\n",
       "      <th>Account Type</th>\n",
       "      <th>Campaign Name</th>\n",
       "      <th>Total Impressions</th>\n",
       "      <th>Total Engagements</th>\n",
       "      <th>Media Type</th>\n",
       "    </tr>\n",
       "  </thead>\n",
       "  <tbody>\n",
       "    <tr>\n",
       "      <th>0</th>\n",
       "      <td>2023-03-31 19:55:43.192</td>\n",
       "      <td>CSGO</td>\n",
       "      <td>TWITTER</td>\n",
       "      <td>N/A</td>\n",
       "      <td>0.0</td>\n",
       "      <td>0.0</td>\n",
       "      <td>Text</td>\n",
       "    </tr>\n",
       "    <tr>\n",
       "      <th>1</th>\n",
       "      <td>2023-03-31 19:49:35.243</td>\n",
       "      <td>CSGO</td>\n",
       "      <td>TWITTER</td>\n",
       "      <td>N/A</td>\n",
       "      <td>0.0</td>\n",
       "      <td>0.0</td>\n",
       "      <td>Text</td>\n",
       "    </tr>\n",
       "    <tr>\n",
       "      <th>2</th>\n",
       "      <td>2023-03-31 19:49:33.535</td>\n",
       "      <td>CSGO</td>\n",
       "      <td>TWITTER</td>\n",
       "      <td>N/A</td>\n",
       "      <td>0.0</td>\n",
       "      <td>0.0</td>\n",
       "      <td>Text</td>\n",
       "    </tr>\n",
       "    <tr>\n",
       "      <th>3</th>\n",
       "      <td>2023-03-31 19:49:31.583</td>\n",
       "      <td>CSGO</td>\n",
       "      <td>TWITTER</td>\n",
       "      <td>N/A</td>\n",
       "      <td>0.0</td>\n",
       "      <td>0.0</td>\n",
       "      <td>Text</td>\n",
       "    </tr>\n",
       "    <tr>\n",
       "      <th>4</th>\n",
       "      <td>2023-03-31 19:43:42.590</td>\n",
       "      <td>CSGO</td>\n",
       "      <td>TWITTER</td>\n",
       "      <td>Community Engagement</td>\n",
       "      <td>9517.0</td>\n",
       "      <td>1215.0</td>\n",
       "      <td>Video</td>\n",
       "    </tr>\n",
       "  </tbody>\n",
       "</table>\n",
       "</div>"
      ],
      "text/plain": [
       "           Published Date Account Account Type          Campaign Name  \\\n",
       "0 2023-03-31 19:55:43.192    CSGO      TWITTER                   N/A    \n",
       "1 2023-03-31 19:49:35.243    CSGO      TWITTER                   N/A    \n",
       "2 2023-03-31 19:49:33.535    CSGO      TWITTER                   N/A    \n",
       "3 2023-03-31 19:49:31.583    CSGO      TWITTER                   N/A    \n",
       "4 2023-03-31 19:43:42.590    CSGO      TWITTER  Community Engagement    \n",
       "\n",
       "   Total Impressions  Total Engagements Media Type  \n",
       "0                0.0                0.0       Text  \n",
       "1                0.0                0.0       Text  \n",
       "2                0.0                0.0       Text  \n",
       "3                0.0                0.0       Text  \n",
       "4             9517.0             1215.0      Video  "
      ]
     },
     "execution_count": 4,
     "metadata": {},
     "output_type": "execute_result"
    }
   ],
   "source": [
    "df.head()"
   ]
  },
  {
   "cell_type": "code",
   "execution_count": 14,
   "id": "b37731db",
   "metadata": {},
   "outputs": [
    {
     "data": {
      "text/html": [
       "<div>\n",
       "<style scoped>\n",
       "    .dataframe tbody tr th:only-of-type {\n",
       "        vertical-align: middle;\n",
       "    }\n",
       "\n",
       "    .dataframe tbody tr th {\n",
       "        vertical-align: top;\n",
       "    }\n",
       "\n",
       "    .dataframe thead th {\n",
       "        text-align: right;\n",
       "    }\n",
       "</style>\n",
       "<table border=\"1\" class=\"dataframe\">\n",
       "  <thead>\n",
       "    <tr style=\"text-align: right;\">\n",
       "      <th></th>\n",
       "      <th>Total Impressions</th>\n",
       "      <th>Total Engagements</th>\n",
       "    </tr>\n",
       "    <tr>\n",
       "      <th>Account</th>\n",
       "      <th></th>\n",
       "      <th></th>\n",
       "    </tr>\n",
       "  </thead>\n",
       "  <tbody>\n",
       "    <tr>\n",
       "      <th>CSGO</th>\n",
       "      <td>2313918.0</td>\n",
       "      <td>92336.0</td>\n",
       "    </tr>\n",
       "    <tr>\n",
       "      <th>DOTA2</th>\n",
       "      <td>1859326.0</td>\n",
       "      <td>123990.0</td>\n",
       "    </tr>\n",
       "  </tbody>\n",
       "</table>\n",
       "</div>"
      ],
      "text/plain": [
       "         Total Impressions  Total Engagements\n",
       "Account                                      \n",
       "CSGO             2313918.0            92336.0\n",
       "DOTA2            1859326.0           123990.0"
      ]
     },
     "execution_count": 14,
     "metadata": {},
     "output_type": "execute_result"
    }
   ],
   "source": [
    "# filter out the dataframe to only include the game titles which are CSGO and DOTA2\n",
    "df_games = df[df['Account'].isin(['CSGO', 'DOTA2'])]\n",
    "# group by each game title and find the sum of total impressions and total engagements for each title\n",
    "df_games = df_games.groupby('Account')[['Total Impressions', 'Total Engagements']].sum()\n",
    "# display the new dataframe\n",
    "df_games"
   ]
  },
  {
   "cell_type": "code",
   "execution_count": 18,
   "id": "9e6793c8",
   "metadata": {},
   "outputs": [
    {
     "data": {
      "text/html": [
       "<div>\n",
       "<style scoped>\n",
       "    .dataframe tbody tr th:only-of-type {\n",
       "        vertical-align: middle;\n",
       "    }\n",
       "\n",
       "    .dataframe tbody tr th {\n",
       "        vertical-align: top;\n",
       "    }\n",
       "\n",
       "    .dataframe thead th {\n",
       "        text-align: right;\n",
       "    }\n",
       "</style>\n",
       "<table border=\"1\" class=\"dataframe\">\n",
       "  <thead>\n",
       "    <tr style=\"text-align: right;\">\n",
       "      <th></th>\n",
       "      <th>Total Impressions</th>\n",
       "      <th>Total Engagements</th>\n",
       "      <th>Engagement Rate</th>\n",
       "    </tr>\n",
       "    <tr>\n",
       "      <th>Account</th>\n",
       "      <th></th>\n",
       "      <th></th>\n",
       "      <th></th>\n",
       "    </tr>\n",
       "  </thead>\n",
       "  <tbody>\n",
       "    <tr>\n",
       "      <th>CSGO</th>\n",
       "      <td>2313918.0</td>\n",
       "      <td>92336.0</td>\n",
       "      <td>3.99</td>\n",
       "    </tr>\n",
       "    <tr>\n",
       "      <th>DOTA2</th>\n",
       "      <td>1859326.0</td>\n",
       "      <td>123990.0</td>\n",
       "      <td>6.67</td>\n",
       "    </tr>\n",
       "  </tbody>\n",
       "</table>\n",
       "</div>"
      ],
      "text/plain": [
       "         Total Impressions  Total Engagements  Engagement Rate\n",
       "Account                                                       \n",
       "CSGO             2313918.0            92336.0             3.99\n",
       "DOTA2            1859326.0           123990.0             6.67"
      ]
     },
     "execution_count": 18,
     "metadata": {},
     "output_type": "execute_result"
    }
   ],
   "source": [
    "# create a new column for engagement rates for each title\n",
    "df_games['Engagement Rate'] = round((df_games['Total Engagements']/df_games['Total Impressions'])*100,2)\n",
    "df_games"
   ]
  },
  {
   "cell_type": "code",
   "execution_count": 19,
   "id": "26c564ed",
   "metadata": {},
   "outputs": [
    {
     "data": {
      "image/png": "[encoded data removed]",
      "text/plain": [
       "<Figure size 576x432 with 1 Axes>"
      ]
     },
     "metadata": {
      "needs_background": "light"
     },
     "output_type": "display_data"
    }
   ],
   "source": [
    "# visualize the dataset\n",
    "# Plotting average engagement rates for each game title\n",
    "plt.figure(figsize=(8, 6))\n",
    "df_games['Engagement Rate'].plot(kind='bar', color='blue')\n",
    "plt.title('Average Engagement Rate by Game Title')\n",
    "plt.xlabel('Game Title')\n",
    "plt.ylabel('Engagement Rate')\n",
    "plt.xticks(rotation=45)\n",
    "plt.show()"
   ]
  },
  {
   "cell_type": "markdown",
   "id": "35ebe6b4",
   "metadata": {},
   "source": [
    "The two game titles that we are looking at CSGO and DOTA 2.  The calculated engagement rates for each game title are 3.99% and 6.67%, respectively.  In terms of social performance both games don't seem to be doing too well with lower engagement rates than the average of 8.51% that was previously calculated from question 1.\n",
    "\n",
    "To determine which one to focus more on depends on what we want.  If we want to go for higher engagement rates then we from the results the company should invest more into DOTA 2 and try to increase its engagement rate.  Or, the company could try to bring CSGO up to speed with DOTA 2 to have similar engagement rates.\n",
    "\n",
    "I think that the company should focus more on DOTA 2.  With the recent rise in popularity with Valorant, RIOTS version of an FPS shooter, CSGO could see a hit in its engagement.  Additional data would have to be brought in for the engagement of Valorant of course, but from what we see right now I believe it is best to focus on DOTA 2.  We would have to bring in outside data to see how the popularity of DOTA 2 is, but seeing how it is already hard to increase engagement rates, I believe it would be best for the company to focus more on DOTA 2."
   ]
  }
 ],
 "metadata": {
  "kernelspec": {
   "display_name": "Python 3 (ipykernel)",
   "language": "python",
   "name": "python3"
  },
  "language_info": {
   "codemirror_mode": {
    "name": "ipython",
    "version": 3
   },
   "file_extension": ".py",
   "mimetype": "text/x-python",
   "name": "python",
   "nbconvert_exporter": "python",
   "pygments_lexer": "ipython3",
   "version": "3.9.12"
  }
 },
 "nbformat": 4,
 "nbformat_minor": 5
}
