{
 "cells": [
  {
   "cell_type": "markdown",
   "id": "7a628863",
   "metadata": {},
   "source": [
    "# 4. What media type performs the best?"
   ]
  },
  {
   "cell_type": "code",
   "execution_count": 1,
   "id": "10df7e11",
   "metadata": {},
   "outputs": [],
   "source": [
    "# import relevant packages\n",
    "import pandas as pd\n",
    "import numpy as np\n",
    "import matplotlib.pyplot as plt"
   ]
  },
  {
   "cell_type": "code",
   "execution_count": 3,
   "id": "4c3d892a",
   "metadata": {},
   "outputs": [],
   "source": [
    "# for this task we will look at the performance for each media type"
   ]
  },
  {
   "cell_type": "code",
   "execution_count": 2,
   "id": "d0e5c971",
   "metadata": {},
   "outputs": [],
   "source": [
    "# first read in the dataset\n",
    "pd.set_option('display.width', None) # make sure to see every column of the datasetf\n",
    "df = pd.read_excel('social_data.xlsx') # read in excel file to pandas dataframe"
   ]
  },
  {
   "cell_type": "code",
   "execution_count": 4,
   "id": "8ca4b7d0",
   "metadata": {},
   "outputs": [
    {
     "data": {
      "text/html": [
       "<div>\n",
       "<style scoped>\n",
       "    .dataframe tbody tr th:only-of-type {\n",
       "        vertical-align: middle;\n",
       "    }\n",
       "\n",
       "    .dataframe tbody tr th {\n",
       "        vertical-align: top;\n",
       "    }\n",
       "\n",
       "    .dataframe thead th {\n",
       "        text-align: right;\n",
       "    }\n",
       "</style>\n",
       "<table border=\"1\" class=\"dataframe\">\n",
       "  <thead>\n",
       "    <tr style=\"text-align: right;\">\n",
       "      <th></th>\n",
       "      <th>Published Date</th>\n",
       "      <th>Account</th>\n",
       "      <th>Account Type</th>\n",
       "      <th>Campaign Name</th>\n",
       "      <th>Total Impressions</th>\n",
       "      <th>Total Engagements</th>\n",
       "      <th>Media Type</th>\n",
       "    </tr>\n",
       "  </thead>\n",
       "  <tbody>\n",
       "    <tr>\n",
       "      <th>0</th>\n",
       "      <td>2023-03-31 19:55:43.192</td>\n",
       "      <td>CSGO</td>\n",
       "      <td>TWITTER</td>\n",
       "      <td>N/A</td>\n",
       "      <td>0.0</td>\n",
       "      <td>0.0</td>\n",
       "      <td>Text</td>\n",
       "    </tr>\n",
       "    <tr>\n",
       "      <th>1</th>\n",
       "      <td>2023-03-31 19:49:35.243</td>\n",
       "      <td>CSGO</td>\n",
       "      <td>TWITTER</td>\n",
       "      <td>N/A</td>\n",
       "      <td>0.0</td>\n",
       "      <td>0.0</td>\n",
       "      <td>Text</td>\n",
       "    </tr>\n",
       "    <tr>\n",
       "      <th>2</th>\n",
       "      <td>2023-03-31 19:49:33.535</td>\n",
       "      <td>CSGO</td>\n",
       "      <td>TWITTER</td>\n",
       "      <td>N/A</td>\n",
       "      <td>0.0</td>\n",
       "      <td>0.0</td>\n",
       "      <td>Text</td>\n",
       "    </tr>\n",
       "    <tr>\n",
       "      <th>3</th>\n",
       "      <td>2023-03-31 19:49:31.583</td>\n",
       "      <td>CSGO</td>\n",
       "      <td>TWITTER</td>\n",
       "      <td>N/A</td>\n",
       "      <td>0.0</td>\n",
       "      <td>0.0</td>\n",
       "      <td>Text</td>\n",
       "    </tr>\n",
       "    <tr>\n",
       "      <th>4</th>\n",
       "      <td>2023-03-31 19:43:42.590</td>\n",
       "      <td>CSGO</td>\n",
       "      <td>TWITTER</td>\n",
       "      <td>Community Engagement</td>\n",
       "      <td>9517.0</td>\n",
       "      <td>1215.0</td>\n",
       "      <td>Video</td>\n",
       "    </tr>\n",
       "  </tbody>\n",
       "</table>\n",
       "</div>"
      ],
      "text/plain": [
       "           Published Date Account Account Type          Campaign Name  \\\n",
       "0 2023-03-31 19:55:43.192    CSGO      TWITTER                   N/A    \n",
       "1 2023-03-31 19:49:35.243    CSGO      TWITTER                   N/A    \n",
       "2 2023-03-31 19:49:33.535    CSGO      TWITTER                   N/A    \n",
       "3 2023-03-31 19:49:31.583    CSGO      TWITTER                   N/A    \n",
       "4 2023-03-31 19:43:42.590    CSGO      TWITTER  Community Engagement    \n",
       "\n",
       "   Total Impressions  Total Engagements Media Type  \n",
       "0                0.0                0.0       Text  \n",
       "1                0.0                0.0       Text  \n",
       "2                0.0                0.0       Text  \n",
       "3                0.0                0.0       Text  \n",
       "4             9517.0             1215.0      Video  "
      ]
     },
     "execution_count": 4,
     "metadata": {},
     "output_type": "execute_result"
    }
   ],
   "source": [
    "df.head()"
   ]
  },
  {
   "cell_type": "code",
   "execution_count": 6,
   "id": "c267b7ac",
   "metadata": {},
   "outputs": [
    {
     "data": {
      "text/html": [
       "<div>\n",
       "<style scoped>\n",
       "    .dataframe tbody tr th:only-of-type {\n",
       "        vertical-align: middle;\n",
       "    }\n",
       "\n",
       "    .dataframe tbody tr th {\n",
       "        vertical-align: top;\n",
       "    }\n",
       "\n",
       "    .dataframe thead th {\n",
       "        text-align: right;\n",
       "    }\n",
       "</style>\n",
       "<table border=\"1\" class=\"dataframe\">\n",
       "  <thead>\n",
       "    <tr style=\"text-align: right;\">\n",
       "      <th></th>\n",
       "      <th>Total Impressions</th>\n",
       "      <th>Total Engagements</th>\n",
       "    </tr>\n",
       "    <tr>\n",
       "      <th>Media Type</th>\n",
       "      <th></th>\n",
       "      <th></th>\n",
       "    </tr>\n",
       "  </thead>\n",
       "  <tbody>\n",
       "    <tr>\n",
       "      <th>Album</th>\n",
       "      <td>20.0</td>\n",
       "      <td>8.0</td>\n",
       "    </tr>\n",
       "    <tr>\n",
       "      <th>Carousel</th>\n",
       "      <td>160689.0</td>\n",
       "      <td>6541.0</td>\n",
       "    </tr>\n",
       "    <tr>\n",
       "      <th>Link</th>\n",
       "      <td>232465.0</td>\n",
       "      <td>2257.0</td>\n",
       "    </tr>\n",
       "    <tr>\n",
       "      <th>Mixed</th>\n",
       "      <td>184984.0</td>\n",
       "      <td>13664.0</td>\n",
       "    </tr>\n",
       "    <tr>\n",
       "      <th>Photo</th>\n",
       "      <td>23893992.0</td>\n",
       "      <td>2167739.0</td>\n",
       "    </tr>\n",
       "    <tr>\n",
       "      <th>Text</th>\n",
       "      <td>3106203.0</td>\n",
       "      <td>246312.0</td>\n",
       "    </tr>\n",
       "    <tr>\n",
       "      <th>Video</th>\n",
       "      <td>10594813.0</td>\n",
       "      <td>859451.0</td>\n",
       "    </tr>\n",
       "  </tbody>\n",
       "</table>\n",
       "</div>"
      ],
      "text/plain": [
       "            Total Impressions  Total Engagements\n",
       "Media Type                                      \n",
       "Album                    20.0                8.0\n",
       "Carousel             160689.0             6541.0\n",
       "Link                 232465.0             2257.0\n",
       "Mixed                184984.0            13664.0\n",
       "Photo              23893992.0          2167739.0\n",
       "Text                3106203.0           246312.0\n",
       "Video              10594813.0           859451.0"
      ]
     },
     "execution_count": 6,
     "metadata": {},
     "output_type": "execute_result"
    }
   ],
   "source": [
    "# group the dataset by media type\n",
    "# and then get the sum of total engagements and impressions for each media type\n",
    "df_media = df.groupby('Media Type')[['Total Impressions', 'Total Engagements']].sum()\n",
    "df_media"
   ]
  },
  {
   "cell_type": "code",
   "execution_count": 7,
   "id": "fd9e6e91",
   "metadata": {},
   "outputs": [
    {
     "data": {
      "text/html": [
       "<div>\n",
       "<style scoped>\n",
       "    .dataframe tbody tr th:only-of-type {\n",
       "        vertical-align: middle;\n",
       "    }\n",
       "\n",
       "    .dataframe tbody tr th {\n",
       "        vertical-align: top;\n",
       "    }\n",
       "\n",
       "    .dataframe thead th {\n",
       "        text-align: right;\n",
       "    }\n",
       "</style>\n",
       "<table border=\"1\" class=\"dataframe\">\n",
       "  <thead>\n",
       "    <tr style=\"text-align: right;\">\n",
       "      <th></th>\n",
       "      <th>Total Impressions</th>\n",
       "      <th>Total Engagements</th>\n",
       "      <th>Engagement Rate</th>\n",
       "    </tr>\n",
       "    <tr>\n",
       "      <th>Media Type</th>\n",
       "      <th></th>\n",
       "      <th></th>\n",
       "      <th></th>\n",
       "    </tr>\n",
       "  </thead>\n",
       "  <tbody>\n",
       "    <tr>\n",
       "      <th>Album</th>\n",
       "      <td>20.0</td>\n",
       "      <td>8.0</td>\n",
       "      <td>40.00</td>\n",
       "    </tr>\n",
       "    <tr>\n",
       "      <th>Carousel</th>\n",
       "      <td>160689.0</td>\n",
       "      <td>6541.0</td>\n",
       "      <td>4.07</td>\n",
       "    </tr>\n",
       "    <tr>\n",
       "      <th>Link</th>\n",
       "      <td>232465.0</td>\n",
       "      <td>2257.0</td>\n",
       "      <td>0.97</td>\n",
       "    </tr>\n",
       "    <tr>\n",
       "      <th>Mixed</th>\n",
       "      <td>184984.0</td>\n",
       "      <td>13664.0</td>\n",
       "      <td>7.39</td>\n",
       "    </tr>\n",
       "    <tr>\n",
       "      <th>Photo</th>\n",
       "      <td>23893992.0</td>\n",
       "      <td>2167739.0</td>\n",
       "      <td>9.07</td>\n",
       "    </tr>\n",
       "    <tr>\n",
       "      <th>Text</th>\n",
       "      <td>3106203.0</td>\n",
       "      <td>246312.0</td>\n",
       "      <td>7.93</td>\n",
       "    </tr>\n",
       "    <tr>\n",
       "      <th>Video</th>\n",
       "      <td>10594813.0</td>\n",
       "      <td>859451.0</td>\n",
       "      <td>8.11</td>\n",
       "    </tr>\n",
       "  </tbody>\n",
       "</table>\n",
       "</div>"
      ],
      "text/plain": [
       "            Total Impressions  Total Engagements  Engagement Rate\n",
       "Media Type                                                       \n",
       "Album                    20.0                8.0            40.00\n",
       "Carousel             160689.0             6541.0             4.07\n",
       "Link                 232465.0             2257.0             0.97\n",
       "Mixed                184984.0            13664.0             7.39\n",
       "Photo              23893992.0          2167739.0             9.07\n",
       "Text                3106203.0           246312.0             7.93\n",
       "Video              10594813.0           859451.0             8.11"
      ]
     },
     "execution_count": 7,
     "metadata": {},
     "output_type": "execute_result"
    }
   ],
   "source": [
    "# create a new column that calculates the engagement rate for each media type\n",
    "df_media['Engagement Rate'] = round((df_media['Total Engagements']/df_media['Total Impressions']*100), 2)\n",
    "df_media"
   ]
  },
  {
   "cell_type": "code",
   "execution_count": 8,
   "id": "c29637b0",
   "metadata": {},
   "outputs": [
    {
     "data": {
      "image/png": "[encoded data removed]",
      "text/plain": [
       "<Figure size 576x432 with 1 Axes>"
      ]
     },
     "metadata": {
      "needs_background": "light"
     },
     "output_type": "display_data"
    }
   ],
   "source": [
    "# visualize the data\n",
    "# Plotting the average engagement rate for each media type\n",
    "plt.figure(figsize=(8, 6))\n",
    "df_media['Engagement Rate'].plot(kind='bar', color='blue')\n",
    "plt.title('Average Engagement Rate by Media Type')\n",
    "plt.xlabel('Media Type')\n",
    "plt.ylabel('Engagement Rate')\n",
    "plt.xticks(rotation=0)\n",
    "plt.show()"
   ]
  },
  {
   "cell_type": "markdown",
   "id": "a68638a8",
   "metadata": {},
   "source": [
    "From the bar graph above we can see that Album has the highest performance with a 40% engagement rate.  However, looking at the engagements and impressions, the sample size is way too small.  There were only 20 impressions and 8 engagements for Albums.  We would have to have more data points for the Album media type to determine if it is truly the best performing media type.\n",
    "\n",
    "Ignoring Albums for now, the best media type is photos with an engagement rate of 9.07%."
   ]
  },
  {
   "cell_type": "code",
   "execution_count": null,
   "id": "c635d56c",
   "metadata": {},
   "outputs": [],
   "source": []
  }
 ],
 "metadata": {
  "kernelspec": {
   "display_name": "Python 3 (ipykernel)",
   "language": "python",
   "name": "python3"
  },
  "language_info": {
   "codemirror_mode": {
    "name": "ipython",
    "version": 3
   },
   "file_extension": ".py",
   "mimetype": "text/x-python",
   "name": "python",
   "nbconvert_exporter": "python",
   "pygments_lexer": "ipython3",
   "version": "3.9.12"
  }
 },
 "nbformat": 4,
 "nbformat_minor": 5
}
