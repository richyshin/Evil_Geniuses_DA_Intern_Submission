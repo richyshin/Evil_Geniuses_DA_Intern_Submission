{
 "cells": [
  {
   "cell_type": "code",
   "execution_count": 1,
   "id": "20c7a836",
   "metadata": {},
   "outputs": [],
   "source": [
    "import pandas as pd\n",
    "import numpy as np\n",
    "import matplotlib.pyplot as plt"
   ]
  },
  {
   "cell_type": "code",
   "execution_count": 2,
   "id": "d4cad439",
   "metadata": {},
   "outputs": [],
   "source": [
    "pd.set_option('display.width', None)\n",
    "df_social_data = pd.read_excel('social_data.xlsx')"
   ]
  },
  {
   "cell_type": "code",
   "execution_count": 4,
   "id": "b8a5c96f",
   "metadata": {},
   "outputs": [
    {
     "data": {
      "text/html": [
       "<div>\n",
       "<style scoped>\n",
       "    .dataframe tbody tr th:only-of-type {\n",
       "        vertical-align: middle;\n",
       "    }\n",
       "\n",
       "    .dataframe tbody tr th {\n",
       "        vertical-align: top;\n",
       "    }\n",
       "\n",
       "    .dataframe thead th {\n",
       "        text-align: right;\n",
       "    }\n",
       "</style>\n",
       "<table border=\"1\" class=\"dataframe\">\n",
       "  <thead>\n",
       "    <tr style=\"text-align: right;\">\n",
       "      <th></th>\n",
       "      <th>Published Date</th>\n",
       "      <th>Account</th>\n",
       "      <th>Account Type</th>\n",
       "      <th>Campaign Name</th>\n",
       "      <th>Total Impressions</th>\n",
       "      <th>Total Engagements</th>\n",
       "      <th>Media Type</th>\n",
       "    </tr>\n",
       "  </thead>\n",
       "  <tbody>\n",
       "    <tr>\n",
       "      <th>0</th>\n",
       "      <td>2023-03-31 19:55:43.192</td>\n",
       "      <td>CSGO</td>\n",
       "      <td>TWITTER</td>\n",
       "      <td>N/A</td>\n",
       "      <td>0.0</td>\n",
       "      <td>0.0</td>\n",
       "      <td>Text</td>\n",
       "    </tr>\n",
       "    <tr>\n",
       "      <th>1</th>\n",
       "      <td>2023-03-31 19:49:35.243</td>\n",
       "      <td>CSGO</td>\n",
       "      <td>TWITTER</td>\n",
       "      <td>N/A</td>\n",
       "      <td>0.0</td>\n",
       "      <td>0.0</td>\n",
       "      <td>Text</td>\n",
       "    </tr>\n",
       "    <tr>\n",
       "      <th>2</th>\n",
       "      <td>2023-03-31 19:49:33.535</td>\n",
       "      <td>CSGO</td>\n",
       "      <td>TWITTER</td>\n",
       "      <td>N/A</td>\n",
       "      <td>0.0</td>\n",
       "      <td>0.0</td>\n",
       "      <td>Text</td>\n",
       "    </tr>\n",
       "    <tr>\n",
       "      <th>3</th>\n",
       "      <td>2023-03-31 19:49:31.583</td>\n",
       "      <td>CSGO</td>\n",
       "      <td>TWITTER</td>\n",
       "      <td>N/A</td>\n",
       "      <td>0.0</td>\n",
       "      <td>0.0</td>\n",
       "      <td>Text</td>\n",
       "    </tr>\n",
       "    <tr>\n",
       "      <th>4</th>\n",
       "      <td>2023-03-31 19:43:42.590</td>\n",
       "      <td>CSGO</td>\n",
       "      <td>TWITTER</td>\n",
       "      <td>Community Engagement</td>\n",
       "      <td>9517.0</td>\n",
       "      <td>1215.0</td>\n",
       "      <td>Video</td>\n",
       "    </tr>\n",
       "  </tbody>\n",
       "</table>\n",
       "</div>"
      ],
      "text/plain": [
       "           Published Date Account Account Type          Campaign Name  \\\n",
       "0 2023-03-31 19:55:43.192    CSGO      TWITTER                   N/A    \n",
       "1 2023-03-31 19:49:35.243    CSGO      TWITTER                   N/A    \n",
       "2 2023-03-31 19:49:33.535    CSGO      TWITTER                   N/A    \n",
       "3 2023-03-31 19:49:31.583    CSGO      TWITTER                   N/A    \n",
       "4 2023-03-31 19:43:42.590    CSGO      TWITTER  Community Engagement    \n",
       "\n",
       "   Total Impressions  Total Engagements Media Type  \n",
       "0                0.0                0.0       Text  \n",
       "1                0.0                0.0       Text  \n",
       "2                0.0                0.0       Text  \n",
       "3                0.0                0.0       Text  \n",
       "4             9517.0             1215.0      Video  "
      ]
     },
     "execution_count": 4,
     "metadata": {},
     "output_type": "execute_result"
    }
   ],
   "source": [
    "df_social_data.head()"
   ]
  },
  {
   "cell_type": "code",
   "execution_count": 5,
   "id": "88650853",
   "metadata": {},
   "outputs": [
    {
     "name": "stdout",
     "output_type": "stream",
     "text": [
      "<class 'pandas.core.frame.DataFrame'>\n",
      "RangeIndex: 3479 entries, 0 to 3478\n",
      "Data columns (total 7 columns):\n",
      " #   Column             Non-Null Count  Dtype         \n",
      "---  ------             --------------  -----         \n",
      " 0   Published Date     3479 non-null   datetime64[ns]\n",
      " 1   Account            3479 non-null   object        \n",
      " 2   Account Type       3479 non-null   object        \n",
      " 3   Campaign Name      3479 non-null   object        \n",
      " 4   Total Impressions  3479 non-null   float64       \n",
      " 5   Total Engagements  3479 non-null   float64       \n",
      " 6   Media Type         3479 non-null   object        \n",
      "dtypes: datetime64[ns](1), float64(2), object(4)\n",
      "memory usage: 190.4+ KB\n"
     ]
    }
   ],
   "source": [
    "df_social_data.info()"
   ]
  },
  {
   "cell_type": "code",
   "execution_count": 79,
   "id": "200d2d43",
   "metadata": {},
   "outputs": [],
   "source": [
    "# drop nulls and duplicates\n",
    "df_social_data = df_social_data.dropna()\n",
    "df_social_data = df_social_data.drop_duplicates()"
   ]
  },
  {
   "cell_type": "code",
   "execution_count": 80,
   "id": "9c7cc44d",
   "metadata": {},
   "outputs": [
    {
     "data": {
      "text/plain": [
       "8.52"
      ]
     },
     "execution_count": 80,
     "metadata": {},
     "output_type": "execute_result"
    }
   ],
   "source": [
    "# 1. What is the typical engagement rate we can expect? What’s the likelihood that we can \n",
    "# achieve a 15% engagement rate?\n",
    "\n",
    "# engagement rate = (total engagements/total impressions) * 100\n",
    "\n",
    "tot_impressions = df_social_data['Total Impressions'].sum()\n",
    "tot_engagements = df_social_data['Total Engagements'].sum()\n",
    "engagement_rate = round((tot_engagements/tot_impressions)* 100, 2)\n",
    "engagement_rate"
   ]
  },
  {
   "cell_type": "code",
   "execution_count": 81,
   "id": "202ddbb0",
   "metadata": {},
   "outputs": [],
   "source": [
    "# the typical engagement rate we can expect from this data is 8.63%.\n",
    "# With the current engagement rate, it would be difficult to achieve \n",
    "# an engagement rate of 15% considering we are a little under 7% away. "
   ]
  },
  {
   "cell_type": "markdown",
   "id": "8df83e3b",
   "metadata": {},
   "source": [
    "2.Does day of the week and time of posting affect engagement rates?"
   ]
  },
  {
   "cell_type": "code",
   "execution_count": 82,
   "id": "22552d93",
   "metadata": {},
   "outputs": [],
   "source": [
    "# first convert Published Date column into a datetime object\n",
    "df_social_data['Published Date'] = pd.to_datetime(df_social_data['Published Date'])\n",
    "\n",
    "# create new columns that extract the day and month from the published date\n",
    "df_social_data['Day of Week'] = df_social_data['Published Date'].dt.day_name()\n",
    "df_social_data['Hour of Day'] = df_social_data['Published Date'].dt.hour"
   ]
  },
  {
   "cell_type": "code",
   "execution_count": 83,
   "id": "fe012e6b",
   "metadata": {},
   "outputs": [
    {
     "data": {
      "text/html": [
       "<div>\n",
       "<style scoped>\n",
       "    .dataframe tbody tr th:only-of-type {\n",
       "        vertical-align: middle;\n",
       "    }\n",
       "\n",
       "    .dataframe tbody tr th {\n",
       "        vertical-align: top;\n",
       "    }\n",
       "\n",
       "    .dataframe thead th {\n",
       "        text-align: right;\n",
       "    }\n",
       "</style>\n",
       "<table border=\"1\" class=\"dataframe\">\n",
       "  <thead>\n",
       "    <tr style=\"text-align: right;\">\n",
       "      <th></th>\n",
       "      <th>Published Date</th>\n",
       "      <th>Account</th>\n",
       "      <th>Account Type</th>\n",
       "      <th>Campaign Name</th>\n",
       "      <th>Total Impressions</th>\n",
       "      <th>Total Engagements</th>\n",
       "      <th>Media Type</th>\n",
       "      <th>Day of Week</th>\n",
       "      <th>Hour of Day</th>\n",
       "    </tr>\n",
       "  </thead>\n",
       "  <tbody>\n",
       "    <tr>\n",
       "      <th>0</th>\n",
       "      <td>2023-03-31 19:55:43.192</td>\n",
       "      <td>CSGO</td>\n",
       "      <td>TWITTER</td>\n",
       "      <td>N/A</td>\n",
       "      <td>0.0</td>\n",
       "      <td>0.0</td>\n",
       "      <td>Text</td>\n",
       "      <td>Friday</td>\n",
       "      <td>19</td>\n",
       "    </tr>\n",
       "    <tr>\n",
       "      <th>1</th>\n",
       "      <td>2023-03-31 19:49:35.243</td>\n",
       "      <td>CSGO</td>\n",
       "      <td>TWITTER</td>\n",
       "      <td>N/A</td>\n",
       "      <td>0.0</td>\n",
       "      <td>0.0</td>\n",
       "      <td>Text</td>\n",
       "      <td>Friday</td>\n",
       "      <td>19</td>\n",
       "    </tr>\n",
       "    <tr>\n",
       "      <th>2</th>\n",
       "      <td>2023-03-31 19:49:33.535</td>\n",
       "      <td>CSGO</td>\n",
       "      <td>TWITTER</td>\n",
       "      <td>N/A</td>\n",
       "      <td>0.0</td>\n",
       "      <td>0.0</td>\n",
       "      <td>Text</td>\n",
       "      <td>Friday</td>\n",
       "      <td>19</td>\n",
       "    </tr>\n",
       "  </tbody>\n",
       "</table>\n",
       "</div>"
      ],
      "text/plain": [
       "           Published Date Account Account Type Campaign Name  \\\n",
       "0 2023-03-31 19:55:43.192    CSGO      TWITTER          N/A    \n",
       "1 2023-03-31 19:49:35.243    CSGO      TWITTER          N/A    \n",
       "2 2023-03-31 19:49:33.535    CSGO      TWITTER          N/A    \n",
       "\n",
       "   Total Impressions  Total Engagements Media Type Day of Week  Hour of Day  \n",
       "0                0.0                0.0       Text      Friday           19  \n",
       "1                0.0                0.0       Text      Friday           19  \n",
       "2                0.0                0.0       Text      Friday           19  "
      ]
     },
     "execution_count": 83,
     "metadata": {},
     "output_type": "execute_result"
    }
   ],
   "source": [
    "df_social_data.head(3)"
   ]
  },
  {
   "cell_type": "code",
   "execution_count": 84,
   "id": "b7b1354a",
   "metadata": {},
   "outputs": [],
   "source": [
    "# calculate the average engagement rate for each day of the week\n",
    "avg_engagement_by_day = df_social_data.groupby('Day of Week')[['Total Engagements', 'Total Impressions']].sum()\n",
    "avg_engagement_by_day['Engagement Rate'] = (avg_engagement_by_day['Total Engagements'] / avg_engagement_by_day['Total Impressions']) * 100"
   ]
  },
  {
   "cell_type": "code",
   "execution_count": 85,
   "id": "feb7fd9b",
   "metadata": {},
   "outputs": [],
   "source": [
    "avg_engagement_by_hour = df_social_data.groupby('Hour of Day')[['Total Engagements', 'Total Impressions']].sum()\n",
    "avg_engagement_by_hour['Engagement Rate'] = (avg_engagement_by_hour['Total Engagements'] / avg_engagement_by_hour['Total Impressions']) * 100"
   ]
  },
  {
   "cell_type": "code",
   "execution_count": 86,
   "id": "85b44a78",
   "metadata": {},
   "outputs": [
    {
     "data": {
      "text/html": [
       "<div>\n",
       "<style scoped>\n",
       "    .dataframe tbody tr th:only-of-type {\n",
       "        vertical-align: middle;\n",
       "    }\n",
       "\n",
       "    .dataframe tbody tr th {\n",
       "        vertical-align: top;\n",
       "    }\n",
       "\n",
       "    .dataframe thead th {\n",
       "        text-align: right;\n",
       "    }\n",
       "</style>\n",
       "<table border=\"1\" class=\"dataframe\">\n",
       "  <thead>\n",
       "    <tr style=\"text-align: right;\">\n",
       "      <th></th>\n",
       "      <th>Total Engagements</th>\n",
       "      <th>Total Impressions</th>\n",
       "      <th>Engagement Rate</th>\n",
       "    </tr>\n",
       "    <tr>\n",
       "      <th>Day of Week</th>\n",
       "      <th></th>\n",
       "      <th></th>\n",
       "      <th></th>\n",
       "    </tr>\n",
       "  </thead>\n",
       "  <tbody>\n",
       "    <tr>\n",
       "      <th>Friday</th>\n",
       "      <td>622439.0</td>\n",
       "      <td>7364062.0</td>\n",
       "      <td>8.452387</td>\n",
       "    </tr>\n",
       "    <tr>\n",
       "      <th>Monday</th>\n",
       "      <td>166246.0</td>\n",
       "      <td>2474436.0</td>\n",
       "      <td>6.718541</td>\n",
       "    </tr>\n",
       "    <tr>\n",
       "      <th>Saturday</th>\n",
       "      <td>146694.0</td>\n",
       "      <td>3028493.0</td>\n",
       "      <td>4.843795</td>\n",
       "    </tr>\n",
       "    <tr>\n",
       "      <th>Sunday</th>\n",
       "      <td>389211.0</td>\n",
       "      <td>3692097.0</td>\n",
       "      <td>10.541733</td>\n",
       "    </tr>\n",
       "    <tr>\n",
       "      <th>Thursday</th>\n",
       "      <td>755371.0</td>\n",
       "      <td>8444600.0</td>\n",
       "      <td>8.945018</td>\n",
       "    </tr>\n",
       "    <tr>\n",
       "      <th>Tuesday</th>\n",
       "      <td>692948.0</td>\n",
       "      <td>7075920.0</td>\n",
       "      <td>9.793045</td>\n",
       "    </tr>\n",
       "    <tr>\n",
       "      <th>Wednesday</th>\n",
       "      <td>448345.0</td>\n",
       "      <td>5725162.0</td>\n",
       "      <td>7.831132</td>\n",
       "    </tr>\n",
       "  </tbody>\n",
       "</table>\n",
       "</div>"
      ],
      "text/plain": [
       "             Total Engagements  Total Impressions  Engagement Rate\n",
       "Day of Week                                                       \n",
       "Friday                622439.0          7364062.0         8.452387\n",
       "Monday                166246.0          2474436.0         6.718541\n",
       "Saturday              146694.0          3028493.0         4.843795\n",
       "Sunday                389211.0          3692097.0        10.541733\n",
       "Thursday              755371.0          8444600.0         8.945018\n",
       "Tuesday               692948.0          7075920.0         9.793045\n",
       "Wednesday             448345.0          5725162.0         7.831132"
      ]
     },
     "execution_count": 86,
     "metadata": {},
     "output_type": "execute_result"
    }
   ],
   "source": [
    "avg_engagement_by_day"
   ]
  },
  {
   "cell_type": "code",
   "execution_count": 87,
   "id": "bb934379",
   "metadata": {},
   "outputs": [
    {
     "data": {
      "text/html": [
       "<div>\n",
       "<style scoped>\n",
       "    .dataframe tbody tr th:only-of-type {\n",
       "        vertical-align: middle;\n",
       "    }\n",
       "\n",
       "    .dataframe tbody tr th {\n",
       "        vertical-align: top;\n",
       "    }\n",
       "\n",
       "    .dataframe thead th {\n",
       "        text-align: right;\n",
       "    }\n",
       "</style>\n",
       "<table border=\"1\" class=\"dataframe\">\n",
       "  <thead>\n",
       "    <tr style=\"text-align: right;\">\n",
       "      <th></th>\n",
       "      <th>Total Engagements</th>\n",
       "      <th>Total Impressions</th>\n",
       "      <th>Engagement Rate</th>\n",
       "    </tr>\n",
       "    <tr>\n",
       "      <th>Hour of Day</th>\n",
       "      <th></th>\n",
       "      <th></th>\n",
       "      <th></th>\n",
       "    </tr>\n",
       "  </thead>\n",
       "  <tbody>\n",
       "    <tr>\n",
       "      <th>0</th>\n",
       "      <td>0.0</td>\n",
       "      <td>0.0</td>\n",
       "      <td>NaN</td>\n",
       "    </tr>\n",
       "    <tr>\n",
       "      <th>2</th>\n",
       "      <td>274.0</td>\n",
       "      <td>32613.0</td>\n",
       "      <td>0.840156</td>\n",
       "    </tr>\n",
       "    <tr>\n",
       "      <th>3</th>\n",
       "      <td>5114.0</td>\n",
       "      <td>66113.0</td>\n",
       "      <td>7.735241</td>\n",
       "    </tr>\n",
       "    <tr>\n",
       "      <th>4</th>\n",
       "      <td>4135.0</td>\n",
       "      <td>46270.0</td>\n",
       "      <td>8.936676</td>\n",
       "    </tr>\n",
       "    <tr>\n",
       "      <th>5</th>\n",
       "      <td>73724.0</td>\n",
       "      <td>313430.0</td>\n",
       "      <td>23.521679</td>\n",
       "    </tr>\n",
       "    <tr>\n",
       "      <th>6</th>\n",
       "      <td>56478.0</td>\n",
       "      <td>712433.0</td>\n",
       "      <td>7.927482</td>\n",
       "    </tr>\n",
       "    <tr>\n",
       "      <th>7</th>\n",
       "      <td>151909.0</td>\n",
       "      <td>1057811.0</td>\n",
       "      <td>14.360694</td>\n",
       "    </tr>\n",
       "    <tr>\n",
       "      <th>8</th>\n",
       "      <td>192957.0</td>\n",
       "      <td>1878286.0</td>\n",
       "      <td>10.273036</td>\n",
       "    </tr>\n",
       "    <tr>\n",
       "      <th>9</th>\n",
       "      <td>449715.0</td>\n",
       "      <td>5203680.0</td>\n",
       "      <td>8.642249</td>\n",
       "    </tr>\n",
       "    <tr>\n",
       "      <th>10</th>\n",
       "      <td>276019.0</td>\n",
       "      <td>4215093.0</td>\n",
       "      <td>6.548349</td>\n",
       "    </tr>\n",
       "    <tr>\n",
       "      <th>11</th>\n",
       "      <td>292109.0</td>\n",
       "      <td>4151561.0</td>\n",
       "      <td>7.036124</td>\n",
       "    </tr>\n",
       "    <tr>\n",
       "      <th>12</th>\n",
       "      <td>162983.0</td>\n",
       "      <td>2810189.0</td>\n",
       "      <td>5.799717</td>\n",
       "    </tr>\n",
       "    <tr>\n",
       "      <th>13</th>\n",
       "      <td>244267.0</td>\n",
       "      <td>2962454.0</td>\n",
       "      <td>8.245428</td>\n",
       "    </tr>\n",
       "    <tr>\n",
       "      <th>14</th>\n",
       "      <td>432289.0</td>\n",
       "      <td>4385789.0</td>\n",
       "      <td>9.856585</td>\n",
       "    </tr>\n",
       "    <tr>\n",
       "      <th>15</th>\n",
       "      <td>206005.0</td>\n",
       "      <td>2976804.0</td>\n",
       "      <td>6.920341</td>\n",
       "    </tr>\n",
       "    <tr>\n",
       "      <th>16</th>\n",
       "      <td>293130.0</td>\n",
       "      <td>3291417.0</td>\n",
       "      <td>8.905891</td>\n",
       "    </tr>\n",
       "    <tr>\n",
       "      <th>17</th>\n",
       "      <td>232997.0</td>\n",
       "      <td>2055272.0</td>\n",
       "      <td>11.336553</td>\n",
       "    </tr>\n",
       "    <tr>\n",
       "      <th>18</th>\n",
       "      <td>105899.0</td>\n",
       "      <td>1044968.0</td>\n",
       "      <td>10.134186</td>\n",
       "    </tr>\n",
       "    <tr>\n",
       "      <th>19</th>\n",
       "      <td>7767.0</td>\n",
       "      <td>176764.0</td>\n",
       "      <td>4.393994</td>\n",
       "    </tr>\n",
       "    <tr>\n",
       "      <th>20</th>\n",
       "      <td>29381.0</td>\n",
       "      <td>219480.0</td>\n",
       "      <td>13.386641</td>\n",
       "    </tr>\n",
       "    <tr>\n",
       "      <th>21</th>\n",
       "      <td>3116.0</td>\n",
       "      <td>76730.0</td>\n",
       "      <td>4.060993</td>\n",
       "    </tr>\n",
       "    <tr>\n",
       "      <th>22</th>\n",
       "      <td>115.0</td>\n",
       "      <td>4300.0</td>\n",
       "      <td>2.674419</td>\n",
       "    </tr>\n",
       "    <tr>\n",
       "      <th>23</th>\n",
       "      <td>871.0</td>\n",
       "      <td>123313.0</td>\n",
       "      <td>0.706333</td>\n",
       "    </tr>\n",
       "  </tbody>\n",
       "</table>\n",
       "</div>"
      ],
      "text/plain": [
       "             Total Engagements  Total Impressions  Engagement Rate\n",
       "Hour of Day                                                       \n",
       "0                          0.0                0.0              NaN\n",
       "2                        274.0            32613.0         0.840156\n",
       "3                       5114.0            66113.0         7.735241\n",
       "4                       4135.0            46270.0         8.936676\n",
       "5                      73724.0           313430.0        23.521679\n",
       "6                      56478.0           712433.0         7.927482\n",
       "7                     151909.0          1057811.0        14.360694\n",
       "8                     192957.0          1878286.0        10.273036\n",
       "9                     449715.0          5203680.0         8.642249\n",
       "10                    276019.0          4215093.0         6.548349\n",
       "11                    292109.0          4151561.0         7.036124\n",
       "12                    162983.0          2810189.0         5.799717\n",
       "13                    244267.0          2962454.0         8.245428\n",
       "14                    432289.0          4385789.0         9.856585\n",
       "15                    206005.0          2976804.0         6.920341\n",
       "16                    293130.0          3291417.0         8.905891\n",
       "17                    232997.0          2055272.0        11.336553\n",
       "18                    105899.0          1044968.0        10.134186\n",
       "19                      7767.0           176764.0         4.393994\n",
       "20                     29381.0           219480.0        13.386641\n",
       "21                      3116.0            76730.0         4.060993\n",
       "22                       115.0             4300.0         2.674419\n",
       "23                       871.0           123313.0         0.706333"
      ]
     },
     "execution_count": 87,
     "metadata": {},
     "output_type": "execute_result"
    }
   ],
   "source": [
    "avg_engagement_by_hour"
   ]
  },
  {
   "cell_type": "code",
   "execution_count": 88,
   "id": "44a96291",
   "metadata": {},
   "outputs": [
    {
     "data": {
      "image/png": "[encoded data removed]",
      "text/plain": [
       "<Figure size 576x432 with 1 Axes>"
      ]
     },
     "metadata": {
      "needs_background": "light"
     },
     "output_type": "display_data"
    },
    {
     "data": {
      "image/png": "[encoded data removed]",
      "text/plain": [
       "<Figure size 576x432 with 1 Axes>"
      ]
     },
     "metadata": {
      "needs_background": "light"
     },
     "output_type": "display_data"
    }
   ],
   "source": [
    "# plot average engagement rates by day of the week\n",
    "# Plotting average engagement rates by day of the week\n",
    "plt.figure(figsize=(8, 6))\n",
    "avg_engagement_by_day['Engagement Rate'].plot(kind='bar', color='blue')\n",
    "plt.title('Average Engagement Rate by Day of the Week')\n",
    "plt.xlabel('Day of the Week')\n",
    "plt.ylabel('Engagement Rate')\n",
    "plt.xticks(rotation=45)\n",
    "plt.show()\n",
    "\n",
    "# Plotting average engagement rates by hour of the day\n",
    "plt.figure(figsize=(8, 6))\n",
    "avg_engagement_by_hour['Engagement Rate'].plot(kind='line', color='red')\n",
    "plt.title('Average Engagement Rate by Hour of the Day')\n",
    "plt.xlabel('Hour of the Day')\n",
    "plt.ylabel('Engagement Rate')\n",
    "plt.xticks(range(24))\n",
    "plt.show()"
   ]
  },
  {
   "cell_type": "code",
   "execution_count": 30,
   "id": "ef04dc5e",
   "metadata": {},
   "outputs": [],
   "source": [
    "# it does seem like day and time of posting affect the engagement rates\n",
    "# the highest engagement was seen on Sundays and Tuesdays and extremely high\n",
    "# when posted at 5:00 in the morning.  Assuming the times are in pacific time\n",
    "# this would mean 8 am on the east coast which could explain the high engagement\n"
   ]
  },
  {
   "cell_type": "markdown",
   "id": "0991637e",
   "metadata": {},
   "source": [
    "3. How are our game titles doing in terms of social performance? Is there a specific game we should focus more on or less?"
   ]
  },
  {
   "cell_type": "code",
   "execution_count": null,
   "id": "75f755b0",
   "metadata": {},
   "outputs": [],
   "source": []
  },
  {
   "cell_type": "markdown",
   "id": "bedf7fcc",
   "metadata": {},
   "source": [
    "4. What media type performs the best?"
   ]
  },
  {
   "cell_type": "code",
   "execution_count": 90,
   "id": "9ac15c22",
   "metadata": {},
   "outputs": [
    {
     "data": {
      "text/html": [
       "<div>\n",
       "<style scoped>\n",
       "    .dataframe tbody tr th:only-of-type {\n",
       "        vertical-align: middle;\n",
       "    }\n",
       "\n",
       "    .dataframe tbody tr th {\n",
       "        vertical-align: top;\n",
       "    }\n",
       "\n",
       "    .dataframe thead th {\n",
       "        text-align: right;\n",
       "    }\n",
       "</style>\n",
       "<table border=\"1\" class=\"dataframe\">\n",
       "  <thead>\n",
       "    <tr style=\"text-align: right;\">\n",
       "      <th></th>\n",
       "      <th>Total Engagements</th>\n",
       "      <th>Total Impressions</th>\n",
       "    </tr>\n",
       "    <tr>\n",
       "      <th>Media Type</th>\n",
       "      <th></th>\n",
       "      <th></th>\n",
       "    </tr>\n",
       "  </thead>\n",
       "  <tbody>\n",
       "    <tr>\n",
       "      <th>Carousel</th>\n",
       "      <td>6541.0</td>\n",
       "      <td>160689.0</td>\n",
       "    </tr>\n",
       "    <tr>\n",
       "      <th>Link</th>\n",
       "      <td>2063.0</td>\n",
       "      <td>224713.0</td>\n",
       "    </tr>\n",
       "    <tr>\n",
       "      <th>Mixed</th>\n",
       "      <td>13664.0</td>\n",
       "      <td>184984.0</td>\n",
       "    </tr>\n",
       "    <tr>\n",
       "      <th>Photo</th>\n",
       "      <td>2093338.0</td>\n",
       "      <td>23542925.0</td>\n",
       "    </tr>\n",
       "    <tr>\n",
       "      <th>Text</th>\n",
       "      <td>246268.0</td>\n",
       "      <td>3099560.0</td>\n",
       "    </tr>\n",
       "    <tr>\n",
       "      <th>Video</th>\n",
       "      <td>859380.0</td>\n",
       "      <td>10591899.0</td>\n",
       "    </tr>\n",
       "  </tbody>\n",
       "</table>\n",
       "</div>"
      ],
      "text/plain": [
       "            Total Engagements  Total Impressions\n",
       "Media Type                                      \n",
       "Carousel               6541.0           160689.0\n",
       "Link                   2063.0           224713.0\n",
       "Mixed                 13664.0           184984.0\n",
       "Photo               2093338.0         23542925.0\n",
       "Text                 246268.0          3099560.0\n",
       "Video                859380.0         10591899.0"
      ]
     },
     "execution_count": 90,
     "metadata": {},
     "output_type": "execute_result"
    }
   ],
   "source": [
    "df_social_data = df_social_data[df_social_data['Media Type'] != 'Album']\n",
    "media_type = df_social_data.groupby(['Media Type'])[['Total Engagements', 'Total Impressions']].sum()\n",
    "media_type"
   ]
  },
  {
   "cell_type": "code",
   "execution_count": 91,
   "id": "4587b6d8",
   "metadata": {},
   "outputs": [
    {
     "data": {
      "text/html": [
       "<div>\n",
       "<style scoped>\n",
       "    .dataframe tbody tr th:only-of-type {\n",
       "        vertical-align: middle;\n",
       "    }\n",
       "\n",
       "    .dataframe tbody tr th {\n",
       "        vertical-align: top;\n",
       "    }\n",
       "\n",
       "    .dataframe thead th {\n",
       "        text-align: right;\n",
       "    }\n",
       "</style>\n",
       "<table border=\"1\" class=\"dataframe\">\n",
       "  <thead>\n",
       "    <tr style=\"text-align: right;\">\n",
       "      <th></th>\n",
       "      <th>Total Engagements</th>\n",
       "      <th>Total Impressions</th>\n",
       "      <th>Engagement Rate</th>\n",
       "    </tr>\n",
       "    <tr>\n",
       "      <th>Media Type</th>\n",
       "      <th></th>\n",
       "      <th></th>\n",
       "      <th></th>\n",
       "    </tr>\n",
       "  </thead>\n",
       "  <tbody>\n",
       "    <tr>\n",
       "      <th>Carousel</th>\n",
       "      <td>6541.0</td>\n",
       "      <td>160689.0</td>\n",
       "      <td>4.070596</td>\n",
       "    </tr>\n",
       "    <tr>\n",
       "      <th>Link</th>\n",
       "      <td>2063.0</td>\n",
       "      <td>224713.0</td>\n",
       "      <td>0.918060</td>\n",
       "    </tr>\n",
       "    <tr>\n",
       "      <th>Mixed</th>\n",
       "      <td>13664.0</td>\n",
       "      <td>184984.0</td>\n",
       "      <td>7.386585</td>\n",
       "    </tr>\n",
       "    <tr>\n",
       "      <th>Photo</th>\n",
       "      <td>2093338.0</td>\n",
       "      <td>23542925.0</td>\n",
       "      <td>8.891580</td>\n",
       "    </tr>\n",
       "    <tr>\n",
       "      <th>Text</th>\n",
       "      <td>246268.0</td>\n",
       "      <td>3099560.0</td>\n",
       "      <td>7.945257</td>\n",
       "    </tr>\n",
       "    <tr>\n",
       "      <th>Video</th>\n",
       "      <td>859380.0</td>\n",
       "      <td>10591899.0</td>\n",
       "      <td>8.113559</td>\n",
       "    </tr>\n",
       "  </tbody>\n",
       "</table>\n",
       "</div>"
      ],
      "text/plain": [
       "            Total Engagements  Total Impressions  Engagement Rate\n",
       "Media Type                                                       \n",
       "Carousel               6541.0           160689.0         4.070596\n",
       "Link                   2063.0           224713.0         0.918060\n",
       "Mixed                 13664.0           184984.0         7.386585\n",
       "Photo               2093338.0         23542925.0         8.891580\n",
       "Text                 246268.0          3099560.0         7.945257\n",
       "Video                859380.0         10591899.0         8.113559"
      ]
     },
     "execution_count": 91,
     "metadata": {},
     "output_type": "execute_result"
    }
   ],
   "source": [
    "media_type['Engagement Rate'] =(media_type['Total Engagements']/media_type['Total Impressions'])*100\n",
    "media_type"
   ]
  },
  {
   "cell_type": "code",
   "execution_count": 92,
   "id": "d0daa838",
   "metadata": {
    "scrolled": true
   },
   "outputs": [
    {
     "data": {
      "image/png": "[encoded data removed]",
      "text/plain": [
       "<Figure size 576x432 with 1 Axes>"
      ]
     },
     "metadata": {
      "needs_background": "light"
     },
     "output_type": "display_data"
    }
   ],
   "source": [
    "# Plotting the average engagement rate for each media type\n",
    "plt.figure(figsize=(8, 6))\n",
    "media_type['Engagement Rate'].plot(kind='bar', color='blue')\n",
    "plt.title('Average Engagement Rate by Media Type')\n",
    "plt.xlabel('Media Type')\n",
    "plt.ylabel('Engagement Rate')\n",
    "plt.xticks(rotation=0)\n",
    "plt.show()"
   ]
  },
  {
   "cell_type": "code",
   "execution_count": 93,
   "id": "c163b8eb",
   "metadata": {},
   "outputs": [
    {
     "data": {
      "image/png": "[encoded data removed]",
      "text/plain": [
       "<Figure size 576x432 with 1 Axes>"
      ]
     },
     "metadata": {
      "needs_background": "light"
     },
     "output_type": "display_data"
    }
   ],
   "source": [
    "# from this bar graph we can see that Album had the best performance.\n",
    "# however looking at the table we can see that Albums only had 20 impressions\n",
    "# while the other media types had impressions on the thousands\n",
    "# the sample size for album is too small to have any impactful insights so we\n",
    "# drop albums from the media type\n",
    "\n",
    "# Plotting the average engagement rate for each media type without album\n",
    "plt.figure(figsize=(8, 6))\n",
    "media_type['Engagement Rate'].plot(kind='bar', color='blue')\n",
    "plt.title('Average Engagement Rate by Media Type w/o Albums')\n",
    "plt.xlabel('Media Type')\n",
    "plt.ylabel('Engagement Rate')\n",
    "plt.xticks(rotation=0)\n",
    "plt.show()"
   ]
  },
  {
   "cell_type": "code",
   "execution_count": 94,
   "id": "a857b561",
   "metadata": {},
   "outputs": [],
   "source": [
    "# from this new graph we can see that Photos were the best performing\n",
    "# media type"
   ]
  },
  {
   "cell_type": "markdown",
   "id": "7a337ab7",
   "metadata": {},
   "source": [
    "5. What is our best performing campaign?"
   ]
  },
  {
   "cell_type": "code",
   "execution_count": 99,
   "id": "fab67571",
   "metadata": {},
   "outputs": [
    {
     "data": {
      "text/html": [
       "<div>\n",
       "<style scoped>\n",
       "    .dataframe tbody tr th:only-of-type {\n",
       "        vertical-align: middle;\n",
       "    }\n",
       "\n",
       "    .dataframe tbody tr th {\n",
       "        vertical-align: top;\n",
       "    }\n",
       "\n",
       "    .dataframe thead th {\n",
       "        text-align: right;\n",
       "    }\n",
       "</style>\n",
       "<table border=\"1\" class=\"dataframe\">\n",
       "  <thead>\n",
       "    <tr style=\"text-align: right;\">\n",
       "      <th></th>\n",
       "      <th>Total Engagements</th>\n",
       "      <th>Total Impressions</th>\n",
       "    </tr>\n",
       "    <tr>\n",
       "      <th>Campaign Name</th>\n",
       "      <th></th>\n",
       "      <th></th>\n",
       "    </tr>\n",
       "  </thead>\n",
       "  <tbody>\n",
       "    <tr>\n",
       "      <th>Community Engagement</th>\n",
       "      <td>1973294.0</td>\n",
       "      <td>23517430.0</td>\n",
       "    </tr>\n",
       "    <tr>\n",
       "      <th>Evergreen</th>\n",
       "      <td>43127.0</td>\n",
       "      <td>1328729.0</td>\n",
       "    </tr>\n",
       "    <tr>\n",
       "      <th>Evil Exhibited</th>\n",
       "      <td>184830.0</td>\n",
       "      <td>5716495.0</td>\n",
       "    </tr>\n",
       "    <tr>\n",
       "      <th>N/A</th>\n",
       "      <td>1020003.0</td>\n",
       "      <td>7242116.0</td>\n",
       "    </tr>\n",
       "  </tbody>\n",
       "</table>\n",
       "</div>"
      ],
      "text/plain": [
       "                       Total Engagements  Total Impressions\n",
       "Campaign Name                                              \n",
       "Community Engagement           1973294.0         23517430.0\n",
       "Evergreen                        43127.0          1328729.0\n",
       "Evil Exhibited                  184830.0          5716495.0\n",
       "N/A                            1020003.0          7242116.0"
      ]
     },
     "execution_count": 99,
     "metadata": {},
     "output_type": "execute_result"
    }
   ],
   "source": [
    "# this a very similar approach to the media type\n",
    "df_social_data = df_social_data[df_social_data['Campaign Name'] != 'N/A']\n",
    "campaign_type = df_social_data.groupby(['Campaign Name'])[['Total Engagements', 'Total Impressions']].sum()\n",
    "campaign_type"
   ]
  },
  {
   "cell_type": "code",
   "execution_count": 100,
   "id": "a2891814",
   "metadata": {},
   "outputs": [
    {
     "data": {
      "text/html": [
       "<div>\n",
       "<style scoped>\n",
       "    .dataframe tbody tr th:only-of-type {\n",
       "        vertical-align: middle;\n",
       "    }\n",
       "\n",
       "    .dataframe tbody tr th {\n",
       "        vertical-align: top;\n",
       "    }\n",
       "\n",
       "    .dataframe thead th {\n",
       "        text-align: right;\n",
       "    }\n",
       "</style>\n",
       "<table border=\"1\" class=\"dataframe\">\n",
       "  <thead>\n",
       "    <tr style=\"text-align: right;\">\n",
       "      <th></th>\n",
       "      <th>Total Engagements</th>\n",
       "      <th>Total Impressions</th>\n",
       "      <th>Engagement Rate</th>\n",
       "    </tr>\n",
       "    <tr>\n",
       "      <th>Campaign Name</th>\n",
       "      <th></th>\n",
       "      <th></th>\n",
       "      <th></th>\n",
       "    </tr>\n",
       "  </thead>\n",
       "  <tbody>\n",
       "    <tr>\n",
       "      <th>Community Engagement</th>\n",
       "      <td>1973294.0</td>\n",
       "      <td>23517430.0</td>\n",
       "      <td>8.390772</td>\n",
       "    </tr>\n",
       "    <tr>\n",
       "      <th>Evergreen</th>\n",
       "      <td>43127.0</td>\n",
       "      <td>1328729.0</td>\n",
       "      <td>3.245733</td>\n",
       "    </tr>\n",
       "    <tr>\n",
       "      <th>Evil Exhibited</th>\n",
       "      <td>184830.0</td>\n",
       "      <td>5716495.0</td>\n",
       "      <td>3.233275</td>\n",
       "    </tr>\n",
       "    <tr>\n",
       "      <th>N/A</th>\n",
       "      <td>1020003.0</td>\n",
       "      <td>7242116.0</td>\n",
       "      <td>14.084323</td>\n",
       "    </tr>\n",
       "  </tbody>\n",
       "</table>\n",
       "</div>"
      ],
      "text/plain": [
       "                       Total Engagements  Total Impressions  Engagement Rate\n",
       "Campaign Name                                                               \n",
       "Community Engagement           1973294.0         23517430.0         8.390772\n",
       "Evergreen                        43127.0          1328729.0         3.245733\n",
       "Evil Exhibited                  184830.0          5716495.0         3.233275\n",
       "N/A                            1020003.0          7242116.0        14.084323"
      ]
     },
     "execution_count": 100,
     "metadata": {},
     "output_type": "execute_result"
    }
   ],
   "source": [
    "campaign_type['Engagement Rate'] =(campaign_type['Total Engagements']/campaign_type['Total Impressions'])*100\n",
    "campaign_type"
   ]
  },
  {
   "cell_type": "code",
   "execution_count": 101,
   "id": "b85fbb61",
   "metadata": {},
   "outputs": [
    {
     "data": {
      "image/png": "[encoded data removed]",
      "text/plain": [
       "<Figure size 576x432 with 1 Axes>"
      ]
     },
     "metadata": {
      "needs_background": "light"
     },
     "output_type": "display_data"
    }
   ],
   "source": [
    "# Plotting the average engagement rate for each campaign type\n",
    "plt.figure(figsize=(8, 6))\n",
    "campaign_type['Engagement Rate'].plot(kind='bar', color='blue')\n",
    "plt.title('Average Engagement Rate by Campaign Type')\n",
    "plt.xlabel('Media Type')\n",
    "plt.ylabel('Engagement Rate')\n",
    "plt.xticks(rotation=0)\n",
    "plt.show()"
   ]
  },
  {
   "cell_type": "code",
   "execution_count": 102,
   "id": "72213b8b",
   "metadata": {},
   "outputs": [],
   "source": [
    "# as we can see from the graph (ignoring the N/A column)\n",
    "# we can see that community engagement yielded the highest performance"
   ]
  },
  {
   "cell_type": "code",
   "execution_count": null,
   "id": "9aabaac7",
   "metadata": {},
   "outputs": [],
   "source": []
  }
 ],
 "metadata": {
  "kernelspec": {
   "display_name": "Python 3 (ipykernel)",
   "language": "python",
   "name": "python3"
  },
  "language_info": {
   "codemirror_mode": {
    "name": "ipython",
    "version": 3
   },
   "file_extension": ".py",
   "mimetype": "text/x-python",
   "name": "python",
   "nbconvert_exporter": "python",
   "pygments_lexer": "ipython3",
   "version": "3.9.12"
  }
 },
 "nbformat": 4,
 "nbformat_minor": 5
}
