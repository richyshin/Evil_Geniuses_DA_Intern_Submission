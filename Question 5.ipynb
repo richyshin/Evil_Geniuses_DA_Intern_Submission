{
 "cells": [
  {
   "cell_type": "markdown",
   "id": "2e31df2e",
   "metadata": {},
   "source": [
    "# 5. What is our best performing campaign?"
   ]
  },
  {
   "cell_type": "code",
   "execution_count": 2,
   "id": "598b38de",
   "metadata": {},
   "outputs": [],
   "source": [
    "# import relevant packages\n",
    "import pandas as pd\n",
    "import numpy as np\n",
    "import matplotlib.pyplot as plt"
   ]
  },
  {
   "cell_type": "code",
   "execution_count": 3,
   "id": "abbfd7f5",
   "metadata": {},
   "outputs": [],
   "source": [
    "# for this task we will look at the engagement rates for each campaign type"
   ]
  },
  {
   "cell_type": "code",
   "execution_count": 4,
   "id": "6dfd4200",
   "metadata": {},
   "outputs": [],
   "source": [
    "# first read in the dataset\n",
    "pd.set_option('display.width', None) # make sure to see every column of the datasetf\n",
    "df = pd.read_excel('social_data.xlsx') # read in excel file to pandas dataframe"
   ]
  },
  {
   "cell_type": "code",
   "execution_count": 27,
   "id": "37869c6d",
   "metadata": {},
   "outputs": [
    {
     "data": {
      "text/html": [
       "<div>\n",
       "<style scoped>\n",
       "    .dataframe tbody tr th:only-of-type {\n",
       "        vertical-align: middle;\n",
       "    }\n",
       "\n",
       "    .dataframe tbody tr th {\n",
       "        vertical-align: top;\n",
       "    }\n",
       "\n",
       "    .dataframe thead th {\n",
       "        text-align: right;\n",
       "    }\n",
       "</style>\n",
       "<table border=\"1\" class=\"dataframe\">\n",
       "  <thead>\n",
       "    <tr style=\"text-align: right;\">\n",
       "      <th></th>\n",
       "      <th>Published Date</th>\n",
       "      <th>Account</th>\n",
       "      <th>Account Type</th>\n",
       "      <th>Campaign Name</th>\n",
       "      <th>Total Impressions</th>\n",
       "      <th>Total Engagements</th>\n",
       "      <th>Media Type</th>\n",
       "    </tr>\n",
       "  </thead>\n",
       "  <tbody>\n",
       "    <tr>\n",
       "      <th>0</th>\n",
       "      <td>2023-03-31 19:55:43.192</td>\n",
       "      <td>CSGO</td>\n",
       "      <td>TWITTER</td>\n",
       "      <td>N/A</td>\n",
       "      <td>0.0</td>\n",
       "      <td>0.0</td>\n",
       "      <td>Text</td>\n",
       "    </tr>\n",
       "    <tr>\n",
       "      <th>1</th>\n",
       "      <td>2023-03-31 19:49:35.243</td>\n",
       "      <td>CSGO</td>\n",
       "      <td>TWITTER</td>\n",
       "      <td>N/A</td>\n",
       "      <td>0.0</td>\n",
       "      <td>0.0</td>\n",
       "      <td>Text</td>\n",
       "    </tr>\n",
       "    <tr>\n",
       "      <th>2</th>\n",
       "      <td>2023-03-31 19:49:33.535</td>\n",
       "      <td>CSGO</td>\n",
       "      <td>TWITTER</td>\n",
       "      <td>N/A</td>\n",
       "      <td>0.0</td>\n",
       "      <td>0.0</td>\n",
       "      <td>Text</td>\n",
       "    </tr>\n",
       "    <tr>\n",
       "      <th>3</th>\n",
       "      <td>2023-03-31 19:49:31.583</td>\n",
       "      <td>CSGO</td>\n",
       "      <td>TWITTER</td>\n",
       "      <td>N/A</td>\n",
       "      <td>0.0</td>\n",
       "      <td>0.0</td>\n",
       "      <td>Text</td>\n",
       "    </tr>\n",
       "    <tr>\n",
       "      <th>4</th>\n",
       "      <td>2023-03-31 19:43:42.590</td>\n",
       "      <td>CSGO</td>\n",
       "      <td>TWITTER</td>\n",
       "      <td>Community Engagement</td>\n",
       "      <td>9517.0</td>\n",
       "      <td>1215.0</td>\n",
       "      <td>Video</td>\n",
       "    </tr>\n",
       "  </tbody>\n",
       "</table>\n",
       "</div>"
      ],
      "text/plain": [
       "           Published Date Account Account Type          Campaign Name  \\\n",
       "0 2023-03-31 19:55:43.192    CSGO      TWITTER                   N/A    \n",
       "1 2023-03-31 19:49:35.243    CSGO      TWITTER                   N/A    \n",
       "2 2023-03-31 19:49:33.535    CSGO      TWITTER                   N/A    \n",
       "3 2023-03-31 19:49:31.583    CSGO      TWITTER                   N/A    \n",
       "4 2023-03-31 19:43:42.590    CSGO      TWITTER  Community Engagement    \n",
       "\n",
       "   Total Impressions  Total Engagements Media Type  \n",
       "0                0.0                0.0       Text  \n",
       "1                0.0                0.0       Text  \n",
       "2                0.0                0.0       Text  \n",
       "3                0.0                0.0       Text  \n",
       "4             9517.0             1215.0      Video  "
      ]
     },
     "execution_count": 27,
     "metadata": {},
     "output_type": "execute_result"
    }
   ],
   "source": [
    "df.head()"
   ]
  },
  {
   "cell_type": "code",
   "execution_count": 28,
   "id": "bdd4178b",
   "metadata": {
    "scrolled": true
   },
   "outputs": [
    {
     "data": {
      "text/html": [
       "<div>\n",
       "<style scoped>\n",
       "    .dataframe tbody tr th:only-of-type {\n",
       "        vertical-align: middle;\n",
       "    }\n",
       "\n",
       "    .dataframe tbody tr th {\n",
       "        vertical-align: top;\n",
       "    }\n",
       "\n",
       "    .dataframe thead th {\n",
       "        text-align: right;\n",
       "    }\n",
       "</style>\n",
       "<table border=\"1\" class=\"dataframe\">\n",
       "  <thead>\n",
       "    <tr style=\"text-align: right;\">\n",
       "      <th></th>\n",
       "      <th>Total Impressions</th>\n",
       "      <th>Total Engagements</th>\n",
       "    </tr>\n",
       "    <tr>\n",
       "      <th>Campaign Name</th>\n",
       "      <th></th>\n",
       "      <th></th>\n",
       "    </tr>\n",
       "  </thead>\n",
       "  <tbody>\n",
       "    <tr>\n",
       "      <th>Community Engagement</th>\n",
       "      <td>23803756.0</td>\n",
       "      <td>2044767.0</td>\n",
       "    </tr>\n",
       "    <tr>\n",
       "      <th>Evergreen</th>\n",
       "      <td>1328729.0</td>\n",
       "      <td>43127.0</td>\n",
       "    </tr>\n",
       "    <tr>\n",
       "      <th>Evil Exhibited</th>\n",
       "      <td>5742595.0</td>\n",
       "      <td>185305.0</td>\n",
       "    </tr>\n",
       "    <tr>\n",
       "      <th>N/A</th>\n",
       "      <td>7298066.0</td>\n",
       "      <td>1022765.0</td>\n",
       "    </tr>\n",
       "  </tbody>\n",
       "</table>\n",
       "</div>"
      ],
      "text/plain": [
       "                       Total Impressions  Total Engagements\n",
       "Campaign Name                                              \n",
       "Community Engagement          23803756.0          2044767.0\n",
       "Evergreen                      1328729.0            43127.0\n",
       "Evil Exhibited                 5742595.0           185305.0\n",
       "N/A                            7298066.0          1022765.0"
      ]
     },
     "execution_count": 28,
     "metadata": {},
     "output_type": "execute_result"
    }
   ],
   "source": [
    "# group by each game title and find the sum of total impressions and total engagements for each title\n",
    "df_campaigns = df.groupby('Campaign Name')[['Total Impressions', 'Total Engagements']].sum()\n",
    "# display the new dataframe\n",
    "df_campaigns"
   ]
  },
  {
   "cell_type": "code",
   "execution_count": 29,
   "id": "f1d2e0a8",
   "metadata": {},
   "outputs": [
    {
     "data": {
      "text/html": [
       "<div>\n",
       "<style scoped>\n",
       "    .dataframe tbody tr th:only-of-type {\n",
       "        vertical-align: middle;\n",
       "    }\n",
       "\n",
       "    .dataframe tbody tr th {\n",
       "        vertical-align: top;\n",
       "    }\n",
       "\n",
       "    .dataframe thead th {\n",
       "        text-align: right;\n",
       "    }\n",
       "</style>\n",
       "<table border=\"1\" class=\"dataframe\">\n",
       "  <thead>\n",
       "    <tr style=\"text-align: right;\">\n",
       "      <th></th>\n",
       "      <th>Total Impressions</th>\n",
       "      <th>Total Engagements</th>\n",
       "      <th>Engagement Rate</th>\n",
       "    </tr>\n",
       "    <tr>\n",
       "      <th>Campaign Name</th>\n",
       "      <th></th>\n",
       "      <th></th>\n",
       "      <th></th>\n",
       "    </tr>\n",
       "  </thead>\n",
       "  <tbody>\n",
       "    <tr>\n",
       "      <th>Community Engagement</th>\n",
       "      <td>23803756.0</td>\n",
       "      <td>2044767.0</td>\n",
       "      <td>8.59</td>\n",
       "    </tr>\n",
       "    <tr>\n",
       "      <th>Evergreen</th>\n",
       "      <td>1328729.0</td>\n",
       "      <td>43127.0</td>\n",
       "      <td>3.25</td>\n",
       "    </tr>\n",
       "    <tr>\n",
       "      <th>Evil Exhibited</th>\n",
       "      <td>5742595.0</td>\n",
       "      <td>185305.0</td>\n",
       "      <td>3.23</td>\n",
       "    </tr>\n",
       "    <tr>\n",
       "      <th>N/A</th>\n",
       "      <td>7298066.0</td>\n",
       "      <td>1022765.0</td>\n",
       "      <td>14.01</td>\n",
       "    </tr>\n",
       "  </tbody>\n",
       "</table>\n",
       "</div>"
      ],
      "text/plain": [
       "                       Total Impressions  Total Engagements  Engagement Rate\n",
       "Campaign Name                                                               \n",
       "Community Engagement          23803756.0          2044767.0             8.59\n",
       "Evergreen                      1328729.0            43127.0             3.25\n",
       "Evil Exhibited                 5742595.0           185305.0             3.23\n",
       "N/A                            7298066.0          1022765.0            14.01"
      ]
     },
     "execution_count": 29,
     "metadata": {},
     "output_type": "execute_result"
    }
   ],
   "source": [
    "# create a new column for engagement rate for the dataframe\n",
    "df_campaigns['Engagement Rate'] = round((df_campaigns['Total Engagements']/df_campaigns['Total Impressions'])* 100, 2)\n",
    "df_campaigns"
   ]
  },
  {
   "cell_type": "code",
   "execution_count": 31,
   "id": "b1788692",
   "metadata": {},
   "outputs": [
    {
     "data": {
      "image/png": "[encoded data removed]",
      "text/plain": [
       "<Figure size 576x432 with 1 Axes>"
      ]
     },
     "metadata": {
      "needs_background": "light"
     },
     "output_type": "display_data"
    }
   ],
   "source": [
    "# Plotting the average engagement rate for each campaign type\n",
    "plt.figure(figsize=(8, 6))\n",
    "df_campaigns['Engagement Rate'].plot(kind='bar', color='red')\n",
    "plt.title('Average Engagement Rate by Campaign Type')\n",
    "plt.xlabel('Campaign Type')\n",
    "plt.ylabel('Engagement Rate')\n",
    "plt.xticks(rotation=0)\n",
    "plt.show()"
   ]
  },
  {
   "cell_type": "markdown",
   "id": "c67652e7",
   "metadata": {},
   "source": [
    "From the bar graph above we see that Community Engagement had the highest performance with an engagement rate of 8.59%.  The bar graph does show that the highest engagement rate was when there was no engagement rate with 14.01%.  This could be because a majority of users don't really engage in many campaigning events.  For the purpose of this task we will ignore this column and focus only on the campaign types that were performed."
   ]
  },
  {
   "cell_type": "markdown",
   "id": "7d79b07e",
   "metadata": {},
   "source": [
    "Note: I have tried to remove the N/A from the column using a variety of methods but I have not been able to find a solution."
   ]
  },
  {
   "cell_type": "code",
   "execution_count": null,
   "id": "c327e25d",
   "metadata": {},
   "outputs": [],
   "source": []
  }
 ],
 "metadata": {
  "kernelspec": {
   "display_name": "Python 3 (ipykernel)",
   "language": "python",
   "name": "python3"
  },
  "language_info": {
   "codemirror_mode": {
    "name": "ipython",
    "version": 3
   },
   "file_extension": ".py",
   "mimetype": "text/x-python",
   "name": "python",
   "nbconvert_exporter": "python",
   "pygments_lexer": "ipython3",
   "version": "3.9.12"
  }
 },
 "nbformat": 4,
 "nbformat_minor": 5
}
